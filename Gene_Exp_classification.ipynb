{
  "nbformat": 4,
  "nbformat_minor": 0,
  "metadata": {
    "colab": {
      "provenance": []
    },
    "kernelspec": {
      "name": "python3",
      "display_name": "Python 3"
    },
    "language_info": {
      "name": "python"
    }
  },
  "cells": [
    {
      "cell_type": "code",
      "execution_count": 9,
      "metadata": {
        "colab": {
          "base_uri": "https://localhost:8080/"
        },
        "id": "jWzy0kiFHh2R",
        "outputId": "86bc4c54-c1e7-4e42-e41f-49fd1bbd7b63"
      },
      "outputs": [
        {
          "output_type": "stream",
          "name": "stdout",
          "text": [
            "      alpha 0     alpha 7    alpha 14    alpha 21    alpha 28    alpha 35  \\\n",
            "0  continuous  continuous  continuous  continuous  continuous  continuous   \n",
            "1         NaN         NaN         NaN         NaN         NaN         NaN   \n",
            "2           ?      -0.023       0.057       0.007       0.018      -0.057   \n",
            "3      -0.031      -0.031       -0.06       0.037      -0.071      -0.018   \n",
            "4      -0.013           ?       0.067      -0.025       0.017       0.008   \n",
            "\n",
            "     alpha 42    alpha 49    alpha 56    alpha 63  ...    cold 160  \\\n",
            "0  continuous  continuous  continuous  continuous  ...  continuous   \n",
            "1         NaN         NaN         NaN         NaN  ...         NaN   \n",
            "2       0.009      -0.034      -0.016      -0.046  ...       0.117   \n",
            "3      -0.026      -0.052       0.018       0.052  ...      -0.176   \n",
            "4      -0.042       0.013       0.111       0.015  ...       0.034   \n",
            "\n",
            "       diau a      diau b      diau c      diau d      diau e      diau f  \\\n",
            "0  continuous  continuous  continuous  continuous  continuous  continuous   \n",
            "1         NaN         NaN         NaN         NaN         NaN         NaN   \n",
            "2      -0.041      -0.032      -0.051      -0.021      -0.023      -0.083   \n",
            "3       0.031      -0.024       0.018       0.003      -0.008       0.021   \n",
            "4       0.096       0.048       0.065      -0.013      -0.075       0.216   \n",
            "\n",
            "       diau g function     gene  \n",
            "0  continuous        d   string  \n",
            "1         NaN   class      meta  \n",
            "2      -0.032  Proteas  YGR270W  \n",
            "3      -0.113  Proteas  YIL075C  \n",
            "4       0.038  Proteas  YDL007W  \n",
            "\n",
            "[5 rows x 81 columns]\n"
          ]
        }
      ],
      "source": [
        "import pandas as pd\n",
        "from sklearn.preprocessing import LabelEncoder\n",
        "from sklearn.model_selection import train_test_split\n",
        "from sklearn.naive_bayes import GaussianNB\n",
        "from sklearn.metrics import classification_report, accuracy_score\n",
        "import matplotlib.pyplot as plt\n",
        "import seaborn as sns\n",
        "\n",
        "\n",
        "# Assuming the file name is 'brown-selected.tab'\n",
        "df = pd.read_csv('/content/brown-selected.tab', sep='\\t')\n",
        "print(df.head())"
      ]
    },
    {
      "cell_type": "code",
      "source": [
        "\n",
        "# Remove the first two rows (metadata and descriptions)\n",
        "df_cleaned = df.iloc[2:]\n",
        "\n",
        "# Handle missing values by replacing '?' with NaN and dropping rows with NaN values\n",
        "df_cleaned.replace('?', float('nan'), inplace=True)\n",
        "df_cleaned.dropna(inplace=True)\n",
        "\n",
        "# Encode categorical features\n",
        "le_function = LabelEncoder()\n",
        "df_cleaned['function'] = le_function.fit_transform(df_cleaned['function'])\n",
        "le_gene = LabelEncoder()\n",
        "df_cleaned['gene'] = le_gene.fit_transform(df_cleaned['gene'])\n",
        "\n",
        "# Separate features and labels\n",
        "X = df_cleaned.drop(columns=['function', 'gene'])\n",
        "y = df_cleaned['function']\n",
        "\n",
        "# Convert feature data to float\n",
        "X = X.astype(float)\n",
        "\n",
        "# Train-test split\n",
        "X_train, X_test, y_train, y_test = train_test_split(X, y, test_size=0.2, random_state=42)\n",
        "\n",
        "# Train the Naive Bayes classifier\n",
        "nb_classifier = GaussianNB()\n",
        "nb_classifier.fit(X_train, y_train)\n",
        "\n",
        "# Predict on the test set\n",
        "y_pred = nb_classifier.predict(X_test)\n",
        "\n",
        "# Evaluate the model\n",
        "report = classification_report(y_test, y_pred)\n",
        "accuracy = accuracy_score(y_test, y_pred)\n",
        "\n",
        "print(f'Classification Report:\\n{report}')\n",
        "print(f'Accuracy: {accuracy}')\n"
      ],
      "metadata": {
        "colab": {
          "base_uri": "https://localhost:8080/"
        },
        "id": "P8zi-3McHykZ",
        "outputId": "ce811ca7-1fe5-4702-e7bf-cfab7abacf70"
      },
      "execution_count": 10,
      "outputs": [
        {
          "output_type": "stream",
          "name": "stdout",
          "text": [
            "Classification Report:\n",
            "              precision    recall  f1-score   support\n",
            "\n",
            "           0       0.00      0.00      0.00         3\n",
            "           1       0.57      1.00      0.73         4\n",
            "           2       1.00      1.00      1.00         7\n",
            "\n",
            "    accuracy                           0.79        14\n",
            "   macro avg       0.52      0.67      0.58        14\n",
            "weighted avg       0.66      0.79      0.71        14\n",
            "\n",
            "Accuracy: 0.7857142857142857\n"
          ]
        },
        {
          "output_type": "stream",
          "name": "stderr",
          "text": [
            "<ipython-input-10-08b33b51fe1d>:5: SettingWithCopyWarning: \n",
            "A value is trying to be set on a copy of a slice from a DataFrame\n",
            "\n",
            "See the caveats in the documentation: https://pandas.pydata.org/pandas-docs/stable/user_guide/indexing.html#returning-a-view-versus-a-copy\n",
            "  df_cleaned.replace('?', float('nan'), inplace=True)\n",
            "<ipython-input-10-08b33b51fe1d>:6: SettingWithCopyWarning: \n",
            "A value is trying to be set on a copy of a slice from a DataFrame\n",
            "\n",
            "See the caveats in the documentation: https://pandas.pydata.org/pandas-docs/stable/user_guide/indexing.html#returning-a-view-versus-a-copy\n",
            "  df_cleaned.dropna(inplace=True)\n",
            "<ipython-input-10-08b33b51fe1d>:10: SettingWithCopyWarning: \n",
            "A value is trying to be set on a copy of a slice from a DataFrame.\n",
            "Try using .loc[row_indexer,col_indexer] = value instead\n",
            "\n",
            "See the caveats in the documentation: https://pandas.pydata.org/pandas-docs/stable/user_guide/indexing.html#returning-a-view-versus-a-copy\n",
            "  df_cleaned['function'] = le_function.fit_transform(df_cleaned['function'])\n",
            "<ipython-input-10-08b33b51fe1d>:12: SettingWithCopyWarning: \n",
            "A value is trying to be set on a copy of a slice from a DataFrame.\n",
            "Try using .loc[row_indexer,col_indexer] = value instead\n",
            "\n",
            "See the caveats in the documentation: https://pandas.pydata.org/pandas-docs/stable/user_guide/indexing.html#returning-a-view-versus-a-copy\n",
            "  df_cleaned['gene'] = le_gene.fit_transform(df_cleaned['gene'])\n",
            "/usr/local/lib/python3.10/dist-packages/sklearn/metrics/_classification.py:1344: UndefinedMetricWarning: Precision and F-score are ill-defined and being set to 0.0 in labels with no predicted samples. Use `zero_division` parameter to control this behavior.\n",
            "  _warn_prf(average, modifier, msg_start, len(result))\n",
            "/usr/local/lib/python3.10/dist-packages/sklearn/metrics/_classification.py:1344: UndefinedMetricWarning: Precision and F-score are ill-defined and being set to 0.0 in labels with no predicted samples. Use `zero_division` parameter to control this behavior.\n",
            "  _warn_prf(average, modifier, msg_start, len(result))\n",
            "/usr/local/lib/python3.10/dist-packages/sklearn/metrics/_classification.py:1344: UndefinedMetricWarning: Precision and F-score are ill-defined and being set to 0.0 in labels with no predicted samples. Use `zero_division` parameter to control this behavior.\n",
            "  _warn_prf(average, modifier, msg_start, len(result))\n"
          ]
        }
      ]
    },
    {
      "cell_type": "code",
      "source": [
        "plt.figure(figsize=(14, 6))\n",
        "\n",
        "# Plot the distribution of actual classes\n",
        "plt.subplot(1, 2, 1)\n",
        "sns.countplot(x=y_test, palette=\"viridis\")\n",
        "plt.title('Distribution of Actual Classes')\n",
        "plt.xlabel('Class')\n",
        "plt.ylabel('Count')\n",
        "\n",
        "# Plot the distribution of predicted classes\n",
        "plt.subplot(1, 2, 2)\n",
        "sns.countplot(x=y_pred, palette=\"viridis\")\n",
        "plt.title('Distribution of Predicted Classes')\n",
        "plt.xlabel('Class')\n",
        "plt.ylabel('Count')\n",
        "\n",
        "plt.tight_layout()\n",
        "plt.show()"
      ],
      "metadata": {
        "colab": {
          "base_uri": "https://localhost:8080/",
          "height": 574
        },
        "id": "n54Z70thImQG",
        "outputId": "fd4c406f-8518-4139-9b2c-ad0dfd527c0a"
      },
      "execution_count": 11,
      "outputs": [
        {
          "output_type": "stream",
          "name": "stderr",
          "text": [
            "<ipython-input-11-028fb4d983f4>:5: FutureWarning: \n",
            "\n",
            "Passing `palette` without assigning `hue` is deprecated and will be removed in v0.14.0. Assign the `x` variable to `hue` and set `legend=False` for the same effect.\n",
            "\n",
            "  sns.countplot(x=y_test, palette=\"viridis\")\n",
            "<ipython-input-11-028fb4d983f4>:12: FutureWarning: \n",
            "\n",
            "Passing `palette` without assigning `hue` is deprecated and will be removed in v0.14.0. Assign the `x` variable to `hue` and set `legend=False` for the same effect.\n",
            "\n",
            "  sns.countplot(x=y_pred, palette=\"viridis\")\n"
          ]
        },
        {
          "output_type": "display_data",
          "data": {
            "text/plain": [
              "<Figure size 1400x600 with 2 Axes>"
            ],
            "image/png": "[encoded data removed]"
          },
          "metadata": {}
        }
      ]
    }
  ]
}